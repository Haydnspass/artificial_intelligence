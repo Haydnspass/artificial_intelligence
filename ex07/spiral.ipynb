{
 "cells": [
  {
   "cell_type": "code",
   "execution_count": 1,
   "metadata": {},
   "outputs": [],
   "source": [
    "import csv\n",
    "import numpy as np\n",
    "import torch\n",
    "import matplotlib\n",
    "import matplotlib.pyplot as plt\n",
    "from torch.autograd import Variable\n",
    "from torch.utils.data import Dataset, DataLoader"
   ]
  },
  {
   "cell_type": "code",
   "execution_count": 2,
   "metadata": {},
   "outputs": [],
   "source": [
    "# use provided supplementary load function\n",
    "from supp import pytorch_nn_spiral as iai"
   ]
  },
  {
   "cell_type": "code",
   "execution_count": 3,
   "metadata": {},
   "outputs": [],
   "source": [
    "class ToyDataset(Dataset):\n",
    "    \"\"\" A toy dataset class which implements the abstract class torch.utils.data.Dataset .\n",
    "    (for reference see http://pytorch.org/docs/master/data.html#torch.utils.data.Dataset)\n",
    "    \"\"\"\n",
    "    def __init__(self, root_dir, txt_filename):\n",
    "        super(ToyDataset, self).__init__()\n",
    "        \n",
    "        with open(root_dir + \"/\" + txt_filename) as txt_file:\n",
    "            content = csv.reader(txt_file, delimiter = ' ')\n",
    "            x = []\n",
    "            y = []\n",
    "            truth = np.array([],dtype=int)\n",
    "            for row in content:\n",
    "                x_i = row[0]\n",
    "                y_i = row[1]\n",
    "                t_i = row[2]\n",
    "                \n",
    "                x.append(x_i)\n",
    "                y.append(y_i)\n",
    "                truth = np.append(truth,t_i)\n",
    "        self.raw = torch.from_numpy(np.transpose(np.array((x[:], y[:]), dtype=float)))\n",
    "        truth = truth.astype(np.int)\n",
    "        self.type = torch.from_numpy(self.one_hot_encode(truth))\n",
    "            \n",
    "    # write ground truth as one hot vector\n",
    "    def one_hot_encode(self, x):\n",
    "        n_values = np.max(x) + 1\n",
    "        return np.eye(n_values, dtype=float)[x]\n",
    "\n",
    "    def __getitem__(self, index):\n",
    "        return self.raw[index], self.type[index]\n",
    "\n",
    "    def __len__(self):\n",
    "        return self.raw.__len__()"
   ]
  },
  {
   "cell_type": "markdown",
   "metadata": {},
   "source": [
    "# Load triple junction example"
   ]
  },
  {
   "cell_type": "code",
   "execution_count": 4,
   "metadata": {},
   "outputs": [
    {
     "data": {
      "image/png": "[encoded data removed]",
      "text/plain": [
       "<matplotlib.figure.Figure at 0x114ff5c50>"
      ]
     },
     "metadata": {},
     "output_type": "display_data"
    }
   ],
   "source": [
    "x,y = iai.load_dataset('supp/spiral_data_training.txt')\n",
    "iai.visualize_toy_dataset(x, y)\n",
    "plt.show()"
   ]
  },
  {
   "cell_type": "code",
   "execution_count": 5,
   "metadata": {},
   "outputs": [],
   "source": [
    "toy = ToyDataset(root_dir='supp', txt_filename='spiral_data_training.txt')\n",
    "#dir(toy)"
   ]
  },
  {
   "cell_type": "code",
   "execution_count": 6,
   "metadata": {},
   "outputs": [],
   "source": [
    "#labels = Variable(torch.FloatTensor([1, 2, 3])).view(1,-1)\n",
    "\n",
    "\n",
    "N, D_in, H, D_out = toy.__len__(), toy.raw.shape[1], 30, 4\n",
    "\n",
    "x = Variable(toy.raw)\n",
    "y = Variable(toy.type)\n",
    "x,y = x.type(torch.FloatTensor), y.type(torch.FloatTensor)\n",
    "\n",
    "model = torch.nn.Sequential(\n",
    "    torch.nn.Linear(D_in, H),\n",
    "    torch.nn.Tanh(),\n",
    "    torch.nn.Linear(H, H),\n",
    "    torch.nn.Tanh(),\n",
    "    torch.nn.Linear(H, H),\n",
    "    torch.nn.Tanh(),\n",
    "    torch.nn.Linear(H, D_out),\n",
    "    torch.nn.Softmax(),\n",
    ")\n",
    "loss_fn = torch.nn.MultiLabelSoftMarginLoss()"
   ]
  },
  {
   "cell_type": "code",
   "execution_count": 17,
   "metadata": {},
   "outputs": [
    {
     "name": "stdout",
     "output_type": "stream",
     "text": [
      "Training acceptance:  0.3333333333333333\n",
      "Loss:  \n",
      " 0.7541\n",
      "[torch.FloatTensor of size 1]\n",
      "\n",
      "Training acceptance:  0.3333333333333333\n",
      "Loss:  \n",
      " 0.7540\n",
      "[torch.FloatTensor of size 1]\n",
      "\n",
      "Training acceptance:  0.3333333333333333\n",
      "Loss:  \n",
      " 0.7540\n",
      "[torch.FloatTensor of size 1]\n",
      "\n",
      "Training acceptance:  0.3333333333333333\n",
      "Loss:  \n",
      " 0.7539\n",
      "[torch.FloatTensor of size 1]\n",
      "\n",
      "Training acceptance:  0.3333333333333333\n",
      "Loss:  \n",
      " 0.7539\n",
      "[torch.FloatTensor of size 1]\n",
      "\n",
      "Training acceptance:  0.3333333333333333\n",
      "Loss:  \n",
      " 0.7538\n",
      "[torch.FloatTensor of size 1]\n",
      "\n",
      "Training acceptance:  0.3333333333333333\n",
      "Loss:  \n",
      " 0.7538\n",
      "[torch.FloatTensor of size 1]\n",
      "\n",
      "Training acceptance:  0.3333333333333333\n",
      "Loss:  \n",
      " 0.7537\n",
      "[torch.FloatTensor of size 1]\n",
      "\n",
      "Training acceptance:  0.3333333333333333\n",
      "Loss:  \n",
      " 0.7537\n",
      "[torch.FloatTensor of size 1]\n",
      "\n",
      "Training acceptance:  0.3333333333333333\n",
      "Loss:  \n",
      " 0.7536\n",
      "[torch.FloatTensor of size 1]\n",
      "\n"
     ]
    },
    {
     "name": "stderr",
     "output_type": "stream",
     "text": [
      "/Users/lucasmueller/anaconda/lib/python3.6/site-packages/torch/nn/modules/container.py:67: UserWarning: Implicit dimension choice for softmax has been deprecated. Change the call to include dim=X as an argument.\n",
      "  input = module(input)\n"
     ]
    }
   ],
   "source": [
    "learning_rate = 1e-4\n",
    "optimizer = torch.optim.SGD(model.parameters(), lr=0.01) #torch.optim.Adam(model.parameters(), lr=learning_rate)\n",
    "loss = Variable(torch.FloatTensor([1000]))\n",
    "#while float(loss.data) > 1:\n",
    "for t in range(100):\n",
    "    # Forward pass: compute predicted y by passing x to the model.\n",
    "    y_pred = model(x)\n",
    "\n",
    "    # Compute and print loss.\n",
    "    loss = loss_fn(y_pred, y)\n",
    "    if t % 10 == 0:\n",
    "        print('Training acceptance: ', pred_quality(y_pred, y))\n",
    "        print('Loss: ', loss.data)\n",
    "\n",
    "    optimizer.zero_grad()\n",
    "\n",
    "    # Backward pass: compute gradient of the loss with respect to model\n",
    "    # parameters\n",
    "    loss.backward()\n",
    "\n",
    "    optimizer.step()\n",
    "torch.save(model.state_dict(), 'net2.pk1')"
   ]
  },
  {
   "cell_type": "code",
   "execution_count": 12,
   "metadata": {},
   "outputs": [],
   "source": [
    "def pred_quality(y1, y2):\n",
    "    y1, y2 = y1.data.numpy(), y2.data.numpy()\n",
    "    ix1 = y1.argmax(1)\n",
    "    ix2 = y2.argmax(1)\n",
    "    return float(np.sum(ix1 == ix2)) / y1.shape[0]\n",
    "    "
   ]
  },
  {
   "cell_type": "markdown",
   "metadata": {},
   "source": [
    "# Training Success"
   ]
  },
  {
   "cell_type": "code",
   "execution_count": 13,
   "metadata": {},
   "outputs": [
    {
     "name": "stdout",
     "output_type": "stream",
     "text": [
      "Training acceptance:  0.3333333333333333\n"
     ]
    }
   ],
   "source": [
    "print('Training acceptance: ', pred_quality(y_pred, y))"
   ]
  },
  {
   "cell_type": "markdown",
   "metadata": {},
   "source": [
    "# Test Success"
   ]
  },
  {
   "cell_type": "code",
   "execution_count": 14,
   "metadata": {},
   "outputs": [
    {
     "name": "stdout",
     "output_type": "stream",
     "text": [
      "Testing acceptance:  0.3333333333333333\n"
     ]
    },
    {
     "name": "stderr",
     "output_type": "stream",
     "text": [
      "/Users/lucasmueller/anaconda/lib/python3.6/site-packages/torch/nn/modules/container.py:67: UserWarning: Implicit dimension choice for softmax has been deprecated. Change the call to include dim=X as an argument.\n",
      "  input = module(input)\n"
     ]
    }
   ],
   "source": [
    "toyTest = ToyDataset(root_dir='supp', txt_filename='spiral_data_test.txt')\n",
    "\n",
    "xt = Variable(toyTest.raw)\n",
    "yt = Variable(toyTest.type)\n",
    "xt,yt = xt.type(torch.FloatTensor), yt.type(torch.FloatTensor)\n",
    "y_predt = model(xt)\n",
    "print('Testing acceptance: ', pred_quality(y_predt, yt))"
   ]
  },
  {
   "cell_type": "code",
   "execution_count": null,
   "metadata": {},
   "outputs": [],
   "source": []
  }
 ],
 "metadata": {
  "kernelspec": {
   "display_name": "Python 3",
   "language": "python",
   "name": "python3"
  },
  "language_info": {
   "codemirror_mode": {
    "name": "ipython",
    "version": 3
   },
   "file_extension": ".py",
   "mimetype": "text/x-python",
   "name": "python",
   "nbconvert_exporter": "python",
   "pygments_lexer": "ipython3",
   "version": "3.6.3"
  }
 },
 "nbformat": 4,
 "nbformat_minor": 2
}
